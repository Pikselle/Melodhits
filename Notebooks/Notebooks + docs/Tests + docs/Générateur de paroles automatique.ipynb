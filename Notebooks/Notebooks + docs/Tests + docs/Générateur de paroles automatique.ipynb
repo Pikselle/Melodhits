{
 "cells": [
  {
   "cell_type": "code",
   "execution_count": 1,
   "metadata": {
    "_cell_guid": "b1076dfc-b9ad-4769-8c92-a6c4dae69d19",
    "_kg_hide-input": true,
    "_kg_hide-output": true,
    "_uuid": "8f2839f25d086af736a60e9eeb907d3b93b6e0e5",
    "execution": {
     "iopub.execute_input": "2021-09-04T11:37:55.396275Z",
     "iopub.status.busy": "2021-09-04T11:37:55.395848Z",
     "iopub.status.idle": "2021-09-04T11:37:55.419647Z",
     "shell.execute_reply": "2021-09-04T11:37:55.418793Z",
     "shell.execute_reply.started": "2021-09-04T11:37:55.396191Z"
    }
   },
   "outputs": [],
   "source": [
    "\n",
    "import numpy as np \n",
    "import pandas as pd \n",
    "\n",
    "\n",
    "\n",
    "import os\n"
   ]
  },
  {
   "cell_type": "code",
   "execution_count": 2,
   "metadata": {
    "execution": {
     "iopub.execute_input": "2021-09-04T11:37:55.423909Z",
     "iopub.status.busy": "2021-09-04T11:37:55.423673Z",
     "iopub.status.idle": "2021-09-04T11:38:00.893725Z",
     "shell.execute_reply": "2021-09-04T11:38:00.892905Z",
     "shell.execute_reply.started": "2021-09-04T11:37:55.423886Z"
    }
   },
   "outputs": [],
   "source": [
    "#importing the libraries\n",
    "import pandas as pd\n",
    "import numpy as np\n",
    "import seaborn as sns\n",
    "import matplotlib.pyplot as plt\n",
    "import string, os\n",
    "import nltk\n",
    "import re\n",
    "import keras\n",
    "import random\n",
    "import io\n",
    "from keras.utils import np_utils\n",
    "from keras.models import Sequential\n",
    "from keras.layers import LSTM, Dense, Dropout\n",
    "from keras.optimizers import Adamax\n",
    "import sys\n",
    "from PIL import Image\n",
    "from wordcloud import WordCloud, STOPWORDS, ImageColorGenerator\n",
    "from PIL import Image, ImageDraw, ImageFont\n",
    "import warnings\n",
    "warnings.filterwarnings(\"ignore\")\n"
   ]
  },
  {
   "cell_type": "code",
   "execution_count": 3,
   "metadata": {
    "execution": {
     "iopub.execute_input": "2021-09-04T11:38:00.897172Z",
     "iopub.status.busy": "2021-09-04T11:38:00.896906Z",
     "iopub.status.idle": "2021-09-04T11:38:00.953595Z",
     "shell.execute_reply": "2021-09-04T11:38:00.952865Z",
     "shell.execute_reply.started": "2021-09-04T11:38:00.897146Z"
    }
   },
   "outputs": [
    {
     "data": {
      "text/html": [
       "<div>\n",
       "<style scoped>\n",
       "    .dataframe tbody tr th:only-of-type {\n",
       "        vertical-align: middle;\n",
       "    }\n",
       "\n",
       "    .dataframe tbody tr th {\n",
       "        vertical-align: top;\n",
       "    }\n",
       "\n",
       "    .dataframe thead th {\n",
       "        text-align: right;\n",
       "    }\n",
       "</style>\n",
       "<table border=\"1\" class=\"dataframe\">\n",
       "  <thead>\n",
       "    <tr style=\"text-align: right;\">\n",
       "      <th></th>\n",
       "      <th>Unnamed: 0.1</th>\n",
       "      <th>Nom</th>\n",
       "      <th>Artiste</th>\n",
       "      <th>Genre</th>\n",
       "      <th>Annee</th>\n",
       "      <th>Paroles</th>\n",
       "      <th>country_mb</th>\n",
       "    </tr>\n",
       "  </thead>\n",
       "  <tbody>\n",
       "    <tr>\n",
       "      <th>0</th>\n",
       "      <td>0</td>\n",
       "      <td>As It Was</td>\n",
       "      <td>Harry Styles</td>\n",
       "      <td>pop</td>\n",
       "      <td>2022</td>\n",
       "      <td>[Intro]   Come on   Harry   we wanna say goodn...</td>\n",
       "      <td>United Kingdom</td>\n",
       "    </tr>\n",
       "    <tr>\n",
       "      <th>1</th>\n",
       "      <td>1</td>\n",
       "      <td>Heat Waves</td>\n",
       "      <td>Glass Animals</td>\n",
       "      <td>pop</td>\n",
       "      <td>2022</td>\n",
       "      <td>[Intro]   (Last night   all I think about is y...</td>\n",
       "      <td>United Kingdom</td>\n",
       "    </tr>\n",
       "    <tr>\n",
       "      <th>2</th>\n",
       "      <td>2</td>\n",
       "      <td>STAY (with Justin Bieber)</td>\n",
       "      <td>The Kid LAROI</td>\n",
       "      <td>hip hop</td>\n",
       "      <td>2022</td>\n",
       "      <td>[Chorus: The Kid LAROI]   I do the same thing ...</td>\n",
       "      <td>NaN</td>\n",
       "    </tr>\n",
       "    <tr>\n",
       "      <th>3</th>\n",
       "      <td>3</td>\n",
       "      <td>Me Porto Bonito</td>\n",
       "      <td>Bad Bunny</td>\n",
       "      <td>reggae</td>\n",
       "      <td>2022</td>\n",
       "      <td>[Letra de \"Me Porto Bonito\"]      [Intro: Bad ...</td>\n",
       "      <td>United States</td>\n",
       "    </tr>\n",
       "    <tr>\n",
       "      <th>4</th>\n",
       "      <td>4</td>\n",
       "      <td>Tití Me Preguntó</td>\n",
       "      <td>Bad Bunny</td>\n",
       "      <td>reggae</td>\n",
       "      <td>2022</td>\n",
       "      <td>[Letra de \"Tití Me Preguntó\"]      [Intro: Bad...</td>\n",
       "      <td>United States</td>\n",
       "    </tr>\n",
       "  </tbody>\n",
       "</table>\n",
       "</div>"
      ],
      "text/plain": [
       "   Unnamed: 0.1                        Nom        Artiste    Genre  Annee  \\\n",
       "0             0                  As It Was   Harry Styles      pop   2022   \n",
       "1             1                 Heat Waves  Glass Animals      pop   2022   \n",
       "2             2  STAY (with Justin Bieber)  The Kid LAROI  hip hop   2022   \n",
       "3             3            Me Porto Bonito      Bad Bunny   reggae   2022   \n",
       "4             4           Tití Me Preguntó      Bad Bunny   reggae   2022   \n",
       "\n",
       "                                             Paroles      country_mb  \n",
       "0  [Intro]   Come on   Harry   we wanna say goodn...  United Kingdom  \n",
       "1  [Intro]   (Last night   all I think about is y...  United Kingdom  \n",
       "2  [Chorus: The Kid LAROI]   I do the same thing ...             NaN  \n",
       "3  [Letra de \"Me Porto Bonito\"]      [Intro: Bad ...   United States  \n",
       "4  [Letra de \"Tití Me Preguntó\"]      [Intro: Bad...   United States  "
      ]
     },
     "execution_count": 3,
     "metadata": {},
     "output_type": "execute_result"
    }
   ],
   "source": [
    "data = pd.read_csv('my_data.csv')\n",
    "data.head()"
   ]
  },
  {
   "cell_type": "code",
   "execution_count": 4,
   "metadata": {
    "execution": {
     "iopub.execute_input": "2021-09-04T11:38:00.955568Z",
     "iopub.status.busy": "2021-09-04T11:38:00.955261Z",
     "iopub.status.idle": "2021-09-04T11:38:00.964376Z",
     "shell.execute_reply": "2021-09-04T11:38:00.962924Z",
     "shell.execute_reply.started": "2021-09-04T11:38:00.955534Z"
    }
   },
   "outputs": [
    {
     "name": "stdout",
     "output_type": "stream",
     "text": [
      "Artists in the data:\n",
      " Eminem             27\n",
      "Taylor Swift       25\n",
      "P!nk               24\n",
      "Various Artists    24\n",
      "Ed Sheeran         22\n",
      "                   ..\n",
      "Emeli Sandé         1\n",
      "Grimes              1\n",
      "DEV                 1\n",
      "Myke Towers         1\n",
      "Donell Jones        1\n",
      "Name: Artiste, Length: 899, dtype: int64\n"
     ]
    }
   ],
   "source": [
    "#Printing the names of artists in the lyrics data\n",
    "print(\"Artists in the data:\\n\",data.Artiste.value_counts()) "
   ]
  },
  {
   "cell_type": "code",
   "execution_count": 5,
   "metadata": {
    "execution": {
     "iopub.execute_input": "2021-09-04T11:38:00.966541Z",
     "iopub.status.busy": "2021-09-04T11:38:00.965974Z",
     "iopub.status.idle": "2021-09-04T11:38:00.972871Z",
     "shell.execute_reply": "2021-09-04T11:38:00.971994Z",
     "shell.execute_reply.started": "2021-09-04T11:38:00.966506Z"
    }
   },
   "outputs": [
    {
     "name": "stdout",
     "output_type": "stream",
     "text": [
      "Size of Dataset: (2450, 7)\n"
     ]
    }
   ],
   "source": [
    "#Printing the size of dataset\n",
    "print(\"Size of Dataset:\",data.shape)"
   ]
  },
  {
   "cell_type": "code",
   "execution_count": 6,
   "metadata": {},
   "outputs": [],
   "source": [
    "data.drop(['Unnamed: 0.1', 'Genre', 'Annee','country_mb'],axis=1,inplace=True)"
   ]
  },
  {
   "cell_type": "code",
   "execution_count": 7,
   "metadata": {
    "execution": {
     "iopub.execute_input": "2021-09-04T11:38:00.974998Z",
     "iopub.status.busy": "2021-09-04T11:38:00.974362Z",
     "iopub.status.idle": "2021-09-04T11:38:02.646644Z",
     "shell.execute_reply": "2021-09-04T11:38:02.645695Z",
     "shell.execute_reply.started": "2021-09-04T11:38:00.974963Z"
    }
   },
   "outputs": [
    {
     "data": {
      "text/html": [
       "<div>\n",
       "<style scoped>\n",
       "    .dataframe tbody tr th:only-of-type {\n",
       "        vertical-align: middle;\n",
       "    }\n",
       "\n",
       "    .dataframe tbody tr th {\n",
       "        vertical-align: top;\n",
       "    }\n",
       "\n",
       "    .dataframe thead th {\n",
       "        text-align: right;\n",
       "    }\n",
       "</style>\n",
       "<table border=\"1\" class=\"dataframe\">\n",
       "  <thead>\n",
       "    <tr style=\"text-align: right;\">\n",
       "      <th></th>\n",
       "      <th>No_of_Characters</th>\n",
       "      <th>No_of_Words</th>\n",
       "      <th>No_of_Lines</th>\n",
       "    </tr>\n",
       "  </thead>\n",
       "  <tbody>\n",
       "    <tr>\n",
       "      <th>count</th>\n",
       "      <td>2450.000000</td>\n",
       "      <td>2450.000000</td>\n",
       "      <td>2450.0</td>\n",
       "    </tr>\n",
       "    <tr>\n",
       "      <th>mean</th>\n",
       "      <td>1469.992245</td>\n",
       "      <td>334.172245</td>\n",
       "      <td>1.0</td>\n",
       "    </tr>\n",
       "    <tr>\n",
       "      <th>std</th>\n",
       "      <td>1834.613931</td>\n",
       "      <td>451.645010</td>\n",
       "      <td>0.0</td>\n",
       "    </tr>\n",
       "    <tr>\n",
       "      <th>min</th>\n",
       "      <td>1.000000</td>\n",
       "      <td>1.000000</td>\n",
       "      <td>1.0</td>\n",
       "    </tr>\n",
       "    <tr>\n",
       "      <th>25%</th>\n",
       "      <td>919.250000</td>\n",
       "      <td>192.000000</td>\n",
       "      <td>1.0</td>\n",
       "    </tr>\n",
       "    <tr>\n",
       "      <th>50%</th>\n",
       "      <td>1296.000000</td>\n",
       "      <td>270.000000</td>\n",
       "      <td>1.0</td>\n",
       "    </tr>\n",
       "    <tr>\n",
       "      <th>75%</th>\n",
       "      <td>1684.750000</td>\n",
       "      <td>375.750000</td>\n",
       "      <td>1.0</td>\n",
       "    </tr>\n",
       "    <tr>\n",
       "      <th>max</th>\n",
       "      <td>74589.000000</td>\n",
       "      <td>17485.000000</td>\n",
       "      <td>1.0</td>\n",
       "    </tr>\n",
       "  </tbody>\n",
       "</table>\n",
       "</div>"
      ],
      "text/plain": [
       "       No_of_Characters   No_of_Words  No_of_Lines\n",
       "count       2450.000000   2450.000000       2450.0\n",
       "mean        1469.992245    334.172245          1.0\n",
       "std         1834.613931    451.645010          0.0\n",
       "min            1.000000      1.000000          1.0\n",
       "25%          919.250000    192.000000          1.0\n",
       "50%         1296.000000    270.000000          1.0\n",
       "75%         1684.750000    375.750000          1.0\n",
       "max        74589.000000  17485.000000          1.0"
      ]
     },
     "execution_count": 7,
     "metadata": {},
     "output_type": "execute_result"
    }
   ],
   "source": [
    "#Adding a column of numbers of Characters,words and sentences in each msg\n",
    "data[\"No_of_Characters\"] = data[\"Paroles\"].astype(str).apply(len)\n",
    "data[\"No_of_Words\"] = data[\"Paroles\"].astype(str).apply(lambda x: len(nltk.word_tokenize(x)))\n",
    "data[\"No_of_Lines\"] = data[\"Paroles\"].astype(str).str.split('\\n').apply(len)\n",
    "data.describe()"
   ]
  },
  {
   "cell_type": "code",
   "execution_count": 9,
   "metadata": {},
   "outputs": [
    {
     "name": "stdout",
     "output_type": "stream",
     "text": [
      "Requirement already satisfied: pillow in c:\\users\\wilbi\\anaconda3\\lib\\site-packages (9.2.0)\n"
     ]
    }
   ],
   "source": [
    "!pip install pillow"
   ]
  },
  {
   "cell_type": "code",
   "execution_count": 16,
   "metadata": {},
   "outputs": [
    {
     "name": "stdout",
     "output_type": "stream",
     "text": [
      "Requirement already satisfied: pillow in c:\\users\\wilbi\\anaconda3\\lib\\site-packages (9.2.0)\n",
      "Collecting pillow\n",
      "  Downloading Pillow-9.5.0-cp39-cp39-win_amd64.whl (2.5 MB)\n",
      "     ---------------------------------------- 2.5/2.5 MB 1.8 MB/s eta 0:00:00\n",
      "Installing collected packages: pillow\n",
      "  Attempting uninstall: pillow\n",
      "    Found existing installation: Pillow 9.2.0\n",
      "    Uninstalling Pillow-9.2.0:\n",
      "      Successfully uninstalled Pillow-9.2.0\n"
     ]
    },
    {
     "name": "stderr",
     "output_type": "stream",
     "text": [
      "ERROR: Could not install packages due to an OSError: [WinError 5] Accès refusé: 'C:\\\\Users\\\\wilbi\\\\Anaconda3\\\\Lib\\\\site-packages\\\\~il\\\\_imaging.cp39-win_amd64.pyd'\n",
      "Consider using the `--user` option or check the permissions.\n",
      "\n"
     ]
    }
   ],
   "source": [
    "!pip install --upgrade pillow"
   ]
  },
  {
   "cell_type": "code",
   "execution_count": 21,
   "metadata": {
    "execution": {
     "iopub.execute_input": "2021-09-04T11:38:09.949320Z",
     "iopub.status.busy": "2021-09-04T11:38:09.948991Z",
     "iopub.status.idle": "2021-09-04T11:38:10.314765Z",
     "shell.execute_reply": "2021-09-04T11:38:10.313844Z",
     "shell.execute_reply.started": "2021-09-04T11:38:09.949287Z"
    }
   },
   "outputs": [],
   "source": [
    "from PIL import Image, ImageDraw, ImageFont\n",
    "\n",
    "def My_song(song):\n",
    "    img = Image.open(\"Logo1.png\")\n",
    "    font_path = \"DancingScript-VariableFont_wght.ttf\"\n",
    "    font_size = 20\n",
    "    myFont = ImageFont.truetype(font_path, font_size)\n",
    "    draw = ImageDraw.Draw(img)\n",
    "    text_width, text_height = draw.textsize(song, font=myFont)\n",
    "    x = (500 - text_width) // 2\n",
    "    y = (500 - text_height) // 2\n",
    "    draw.text((x, y), song, font=myFont, fill=(255, 255, 255))\n",
    "    return img\n",
    "\n",
    "song = data.Paroles[42][:500]\n",
    "image = My_song(song)\n",
    "image.show()\n"
   ]
  },
  {
   "cell_type": "code",
   "execution_count": 12,
   "metadata": {},
   "outputs": [],
   "source": []
  },
  {
   "cell_type": "code",
   "execution_count": 22,
   "metadata": {
    "execution": {
     "iopub.execute_input": "2021-09-04T11:38:10.317095Z",
     "iopub.status.busy": "2021-09-04T11:38:10.316758Z",
     "iopub.status.idle": "2021-09-04T11:38:10.347783Z",
     "shell.execute_reply": "2021-09-04T11:38:10.346429Z",
     "shell.execute_reply.started": "2021-09-04T11:38:10.317061Z"
    }
   },
   "outputs": [
    {
     "name": "stdout",
     "output_type": "stream",
     "text": [
      "Number of unique characters: 598\n"
     ]
    }
   ],
   "source": [
    "#Lining up all the lyrics to create corpus\n",
    "Corpus =''\n",
    "for listitem in data.Paroles.astype(str):\n",
    "    Corpus += listitem\n",
    "    \n",
    "Corpus = Corpus.lower() #converting all alphabets to lowecase \n",
    "print(\"Number of unique characters:\", len(set(Corpus)))"
   ]
  },
  {
   "cell_type": "code",
   "execution_count": 23,
   "metadata": {
    "execution": {
     "iopub.execute_input": "2021-09-04T11:38:10.349840Z",
     "iopub.status.busy": "2021-09-04T11:38:10.349417Z",
     "iopub.status.idle": "2021-09-04T11:38:10.369052Z",
     "shell.execute_reply": "2021-09-04T11:38:10.368169Z",
     "shell.execute_reply.started": "2021-09-04T11:38:10.349738Z"
    }
   },
   "outputs": [
    {
     "name": "stdout",
     "output_type": "stream",
     "text": [
      "The unique characters: [' ', '!', '\"', '#', '$', '%', '&', \"'\", '(', ')', '*', '+', ',', '-', '.', '/', '0', '1', '2', '3', '4', '5', '6', '7', '8', '9', ':', ';', '=', '?', '[', ']', '_', 'a', 'b', 'c', 'd', 'e', 'f', 'g', 'h', 'i', 'j', 'k', 'l', 'm', 'n', 'o', 'p', 'q', 'r', 's', 't', 'u', 'v', 'w', 'x', 'y', 'z', '{', '|', '}', '~', '\\xa0', '¡', '«', '°', '´', '»', '¿', 'ß', 'à', 'á', 'ã', 'ä', 'å', 'ç', 'è', 'é', 'ê', 'ë', 'ì', 'í', 'ï', 'ñ', 'ò', 'ó', 'ö', 'ø', 'ù', 'ú', 'ü', 'ý', 'þ', 'ā', 'ă', 'ē', 'ł', 'ș', 'ț', 'ι', 'е', '\\u2005', '\\u200a', '\\u200b', '–', '—', '‘', '’', '“', '”', '„', '•', '…', '\\u202a', '\\u202c', '\\u205f', '\\u2060', '⠀', '「', '」', 'あ', 'い', 'う', 'え', 'か', 'が', 'き', 'ぎ', 'く', 'こ', 'ご', 'さ', 'し', 'す', 'ず', 'そ', 'だ', 'ち', 'っ', 'つ', 'て', 'で', 'と', 'ど', 'な', 'に', 'の', 'は', 'ま', 'み', 'め', 'も', 'ゃ', 'ょ', 'よ', 'ら', 'り', 'る', 'れ', 'わ', 'を', 'ん', 'ィ', 'イ', 'ガ', 'シ', 'セ', 'デ', 'ナ', 'ニ', 'ハ', 'バ', 'メ', 'モ', 'ラ', 'レ', 'ロ', 'ー', '一', '世', '二', '人', '冴', '出', '君', '声', '変', '夜', '子', '宇', '実', '巡', '広', '彩', '心', '忘', '愛', '揺', '星', '春', '月', '未', '来', '歌', '溶', '界', '的', '相', '眠', '空', '終', '色', '落', '詞', '誰', '踊', '迷', '連', '酔', '野', '雪', '静', '風', '騒', '가', '각', '간', '갈', '감', '강', '같', '개', '걍', '거', '걱', '건', '걸', '것', '게', '겐', '겠', '격', '견', '경', '계', '고', '곳', '과', '괜', '국', '군', '궁', '그', '근', '금', '기', '긴', '길', '김', '까', '깐', '께', '꼴', '꾸', '꿈', '끊', '끝', '낌', '나', '난', '날', '남', '낮', '내', '낸', '낼', '냐', '냥', '너', '넌', '널', '넘', '네', '년', '노', '놀', '놈', '높', '놔', '누', '눈', '느', '는', '늘', '늪', '니', '다', '닥', '단', '달', '닮', '답', '당', '대', '더', '던', '데', '도', '독', '돼', '되', '된', '될', '두', '둔', '둘', '둠', '뒤', '드', '든', '들', '듯', '디', '딜', '따', '딱', '때', '땐', '떠', '떡', '떨', '떼', '또', '뚫', '뜨', '뜬', '뜻', '라', '락', '란', '람', '랑', '래', '랙', '러', '런', '럼', '레', '렘', '려', '렴', '렵', '렸', '로', '론', '롭', '르', '를', '름', '리', '린', '릴', '림', '마', '만', '많', '말', '맘', '망', '맞', '맡', '매', '머', '멈', '멋', '멍', '며', '면', '모', '몫', '몰', '몸', '무', '묶', '문', '물', '뭐', '뭘', '미', '민', '믿', '바', '밖', '반', '발', '밟', '밤', '방', '백', '뱉', '버', '번', '벌', '법', '벼', '보', '복', '볼', '봐', '부', '불', '브', '블', '비', '빛', '빠', '빤', '빨', '뻔', '뻗', '사', '산', '살', '상', '새', '생', '샷', '서', '선', '설', '성', '세', '셀', '셋', '소', '속', '손', '쇠', '수', '숙', '순', '숨', '쉬', '스', '슨', '시', '식', '신', '실', '싫', '심', '싶', '싸', '싼', '써', '쓰', '쓸', '아', '악', '안', '않', '알', '애', '야', '약', '어', '얼', '없', '었', '에', '엑', '엔', '여', '영', '예', '오', '옥', '온', '올', '옵', '옷', '와', '완', '외', '우', '욱', '운', '울', '웃', '워', '원', '웬', '위', '윈', '유', '육', '으', '은', '을', '의', '이', '인', '일', '있', '잊', '자', '작', '잔', '잖', '잠', '잡', '장', '재', '저', '적', '전', '점', '정', '제', '져', '졌', '조', '좋', '주', '죽', '중', '줘', '줬', '지', '직', '진', '질', '쩔', '쩜', '쪽', '쫄', '차', '찮', '창', '찾', '채', '처', '척', '천', '청', '쳐', '추', '출', '춰', '치', '칠', '캄', '커', '컷', '콜', '크', '큼', '타', '탄', '태', '터', '통', '투', '툭', '툴', '퉁', '티', '파', '편', '폐', '포', '표', '푸', '품', '플', '픔', '피', '핑', '하', '한', '할', '함', '해', '했', '행', '헤', '황', '훈', '휘', '휩', '흐', '흔', '희', '힘', '\\ufeff', '🐚', '😁']\n"
     ]
    }
   ],
   "source": [
    "#To See all the unique characters present in the Corpus\n",
    "print(\"The unique characters:\",sorted(set(Corpus)))"
   ]
  },
  {
   "cell_type": "code",
   "execution_count": 26,
   "metadata": {
    "_kg_hide-input": false,
    "execution": {
     "iopub.execute_input": "2021-09-04T11:38:10.370563Z",
     "iopub.status.busy": "2021-09-04T11:38:10.370232Z",
     "iopub.status.idle": "2021-09-04T11:38:10.392039Z",
     "shell.execute_reply": "2021-09-04T11:38:10.391197Z",
     "shell.execute_reply.started": "2021-09-04T11:38:10.370529Z"
    }
   },
   "outputs": [],
   "source": [
    "#Keeping only a limited set of characters. \n",
    "to_remove = ['{', '{', '|', '}', '~', '\\xa0', '¡', '«', '°', '´', '»', '¿', 'ß', 'à', 'á', 'ã', 'ä', 'å', 'ç', 'è', 'é', 'ê', 'ë', 'ì', 'í', 'ï', 'ñ', 'ò', 'ó', 'ö', 'ø', 'ù', 'ú', 'ü', 'ý', 'þ', 'ā', 'ă', 'ē', 'ł', 'ș', 'ț', 'ι', 'е', '\\u2005', '\\u200a', '\\u200b', '–', '—', '‘', '’', '“', '”', '„', '•', '…', '\\u202a', '\\u202c', '\\u205f', '\\u2060', '⠀', '「', '」', 'あ', 'い', 'う', 'え', 'か', 'が', 'き', 'ぎ', 'く', 'こ', 'ご', 'さ', 'し', 'す', 'ず', 'そ', 'だ', 'ち', 'っ', 'つ', 'て', 'で', 'と', 'ど', 'な', 'に', 'の', 'は', 'ま', 'み', 'め', 'も', 'ゃ', 'ょ', 'よ', 'ら', 'り', 'る', 'れ', 'わ', 'を', 'ん', 'ィ', 'イ', 'ガ', 'シ', 'セ', 'デ', 'ナ', 'ニ', 'ハ', 'バ', 'メ', 'モ', 'ラ', 'レ', 'ロ', 'ー', '一', '世', '二', '人', '冴', '出', '君', '声', '変', '夜', '子', '宇', '実', '巡', '広', '彩', '心', '忘', '愛', '揺', '星', '春', '月', '未', '来', '歌', '溶', '界', '的', '相', '眠', '空', '終', '色', '落', '詞', '誰', '踊', '迷', '連', '酔', '野', '雪', '静', '風', '騒', '가', '각', '간', '갈', '감', '강', '같', '개', '걍', '거', '걱', '건', '걸', '것', '게', '겐', '겠', '격', '견', '경', '계', '고', '곳', '과', '괜', '국', '군', '궁', '그', '근', '금', '기', '긴', '길', '김', '까', '깐', '께', '꼴', '꾸', '꿈', '끊', '끝', '낌', '나', '난', '날', '남', '낮', '내', '낸', '낼', '냐', '냥', '너', '넌', '널', '넘', '네', '년', '노', '놀', '놈', '높', '놔', '누', '눈', '느', '는', '늘', '늪', '니', '다', '닥', '단', '달', '닮', '답', '당', '대', '더', '던', '데', '도', '독', '돼', '되', '된', '될', '두', '둔', '둘', '둠', '뒤', '드', '든', '들', '듯', '디', '딜', '따', '딱', '때', '땐', '떠', '떡', '떨', '떼', '또', '뚫', '뜨', '뜬', '뜻', '라', '락', '란', '람', '랑', '래', '랙', '러', '런', '럼', '레', '렘', '려', '렴', '렵', '렸', '로', '론', '롭', '르', '를', '름', '리', '린', '릴', '림', '마', '만', '많', '말', '맘', '망', '맞', '맡', '매', '머', '멈', '멋', '멍', '며', '면', '모', '몫', '몰', '몸', '무', '묶', '문', '물', '뭐', '뭘', '미', '민', '믿', '바', '밖', '반', '발', '밟', '밤', '방', '백', '뱉', '버', '번', '벌', '법', '벼', '보', '복', '볼', '봐', '부', '불', '브', '블', '비', '빛', '빠', '빤', '빨', '뻔', '뻗', '사', '산', '살', '상', '새', '생', '샷', '서', '선', '설', '성', '세', '셀', '셋', '소', '속', '손', '쇠', '수', '숙', '순', '숨', '쉬', '스', '슨', '시', '식', '신', '실', '싫', '심', '싶', '싸', '싼', '써', '쓰', '쓸', '아', '악', '안', '않', '알', '애', '야', '약', '어', '얼', '없', '었', '에', '엑', '엔', '여', '영', '예', '오', '옥', '온', '올', '옵', '옷', '와', '완', '외', '우', '욱', '운', '울', '웃', '워', '원', '웬', '위', '윈', '유', '육', '으', '은', '을', '의', '이', '인', '일', '있', '잊', '자', '작', '잔', '잖', '잠', '잡', '장', '재', '저', '적', '전', '점', '정', '제', '져', '졌', '조', '좋', '주', '죽', '중', '줘', '줬', '지', '직', '진', '질', '쩔', '쩜', '쪽', '쫄', '차', '찮', '창', '찾', '채', '처', '척', '천', '청', '쳐', '추', '출', '춰', '치', '칠', '캄', '커', '컷', '콜', '크', '큼', '타', '탄', '태', '터', '통', '투', '툭', '툴', '퉁', '티', '파', '편', '폐', '포', '표', '푸', '품', '플', '픔', '피', '핑', '하', '한', '할', '함', '해', '했', '행', '헤', '황', '훈', '휘', '휩', '흐', '흔', '희', '힘', '\\ufeff', '🐚', '😁', '}', '~', '©', 'à', 'á', 'ã', 'ä', 'ç', 'è', 'é', 'ê', 'ë', 'í', 'ñ', 'ó', 'ö', 'ü', 'ŏ',\n",
    "             'е', 'ا', 'س', 'ل', 'م', 'و', '\\u2005', '\\u200a', '\\u200b', '–', '—', '‘', '’', '‚', '“', '”', \n",
    "             '…', '\\u205f', '\\ufeff', '!', '&', '(', ')', '*', '-',  '/', ]\n",
    "for symbol in to_remove:\n",
    "    Corpus = Corpus.replace(symbol,\" \")\n",
    "\n",
    "#Corpus = re.sub(\"[^A-Za-z0-9'\\.\\n]\",\"\",Corpus) Alterneativly could be used but I want to pick and chose (:"
   ]
  },
  {
   "cell_type": "code",
   "execution_count": 27,
   "metadata": {
    "execution": {
     "iopub.execute_input": "2021-09-04T11:38:10.393367Z",
     "iopub.status.busy": "2021-09-04T11:38:10.393058Z",
     "iopub.status.idle": "2021-09-04T11:38:10.411909Z",
     "shell.execute_reply": "2021-09-04T11:38:10.411079Z",
     "shell.execute_reply.started": "2021-09-04T11:38:10.393332Z"
    }
   },
   "outputs": [
    {
     "name": "stdout",
     "output_type": "stream",
     "text": [
      "The unique characters: [' ', '\"', '#', '$', '%', \"'\", '+', ',', '.', '0', '1', '2', '3', '4', '5', '6', '7', '8', '9', ':', ';', '=', '?', '[', ']', '_', 'a', 'b', 'c', 'd', 'e', 'f', 'g', 'h', 'i', 'j', 'k', 'l', 'm', 'n', 'o', 'p', 'q', 'r', 's', 't', 'u', 'v', 'w', 'x', 'y', 'z']\n"
     ]
    }
   ],
   "source": [
    "#To See all the unique characters present in the Corpus\n",
    "print(\"The unique characters:\",sorted(set(Corpus)))"
   ]
  },
  {
   "cell_type": "code",
   "execution_count": 28,
   "metadata": {
    "execution": {
     "iopub.execute_input": "2021-09-04T11:38:10.413670Z",
     "iopub.status.busy": "2021-09-04T11:38:10.413275Z",
     "iopub.status.idle": "2021-09-04T11:38:10.435363Z",
     "shell.execute_reply": "2021-09-04T11:38:10.434639Z",
     "shell.execute_reply.started": "2021-09-04T11:38:10.413623Z"
    }
   },
   "outputs": [
    {
     "name": "stdout",
     "output_type": "stream",
     "text": [
      "Total number of characters: 3601481\n",
      "Number of unique characters: 52\n"
     ]
    }
   ],
   "source": [
    "# Storing all the unique characters present in my corpus to bult a mapping dic. \n",
    "symb = sorted(list(set(Corpus)))\n",
    "\n",
    "L_corpus = len(Corpus) #length of corpus\n",
    "L_symb = len(symb) #length of total unique characters\n",
    "\n",
    "#Building dictionary to access the vocabulary from indices and vice versa\n",
    "mapping = dict((c, i) for i, c in enumerate(symb))\n",
    "reverse_mapping = dict((i, c) for i, c in enumerate(symb))\n",
    "\n",
    "print(\"Total number of characters:\", L_corpus)\n",
    "print(\"Number of unique characters:\", L_symb)"
   ]
  },
  {
   "cell_type": "code",
   "execution_count": 29,
   "metadata": {
    "execution": {
     "iopub.execute_input": "2021-09-04T11:38:10.437091Z",
     "iopub.status.busy": "2021-09-04T11:38:10.436738Z",
     "iopub.status.idle": "2021-09-04T11:38:16.006580Z",
     "shell.execute_reply": "2021-09-04T11:38:16.005702Z",
     "shell.execute_reply.started": "2021-09-04T11:38:10.437056Z"
    }
   },
   "outputs": [
    {
     "name": "stdout",
     "output_type": "stream",
     "text": [
      "Total number of sequences in the Corpus: 3601441\n"
     ]
    }
   ],
   "source": [
    "#Splitting the Corpus in equal length of strings and output target\n",
    "length = 40\n",
    "features = []\n",
    "targets = []\n",
    "for i in range(0, L_corpus - length, 1):\n",
    "    feature = Corpus[i:i + length]\n",
    "    target = Corpus[i + length]\n",
    "    features.append([mapping[j] for j in feature])\n",
    "    targets.append(mapping[target])\n",
    "    \n",
    "    \n",
    "L_datapoints = len(targets)\n",
    "print(\"Total number of sequences in the Corpus:\", L_datapoints)"
   ]
  },
  {
   "cell_type": "markdown",
   "metadata": {},
   "source": [
    "**Encoding the Labels and Targets**"
   ]
  },
  {
   "cell_type": "code",
   "execution_count": 30,
   "metadata": {
    "execution": {
     "iopub.execute_input": "2021-09-04T11:38:16.008292Z",
     "iopub.status.busy": "2021-09-04T11:38:16.007930Z",
     "iopub.status.idle": "2021-09-04T11:38:24.655688Z",
     "shell.execute_reply": "2021-09-04T11:38:24.654850Z",
     "shell.execute_reply.started": "2021-09-04T11:38:16.008252Z"
    }
   },
   "outputs": [],
   "source": [
    "# reshape X and normalize\n",
    "X = (np.reshape(features, (L_datapoints, length, 1)))/ float(L_symb)\n",
    "\n",
    "# one hot encode the output variable\n",
    "y = np_utils.to_categorical(targets)"
   ]
  },
  {
   "cell_type": "code",
   "execution_count": null,
   "metadata": {
    "execution": {
     "iopub.execute_input": "2021-09-04T11:38:24.657408Z",
     "iopub.status.busy": "2021-09-04T11:38:24.656910Z",
     "iopub.status.idle": "2021-09-04T11:38:26.734188Z",
     "shell.execute_reply": "2021-09-04T11:38:26.732869Z",
     "shell.execute_reply.started": "2021-09-04T11:38:24.657371Z"
    }
   },
   "outputs": [],
   "source": [
    "#Initialising the Model\n",
    "model = Sequential()\n",
    "#Adding layers\n",
    "model.add(LSTM(256, input_shape=(X.shape[1], X.shape[2])))\n",
    "model.add(Dense(y.shape[1], activation='softmax'))\n",
    "#Compiling the model for training  \n",
    "opt = Adamax(learning_rate=0.01)\n",
    "model.compile(loss='categorical_crossentropy', optimizer=opt)\n",
    "\n",
    "#Model's Summary               \n",
    "model.summary()\n",
    "\n"
   ]
  },
  {
   "cell_type": "code",
   "execution_count": null,
   "metadata": {
    "_kg_hide-output": true,
    "execution": {
     "iopub.execute_input": "2021-09-04T11:38:26.735787Z",
     "iopub.status.busy": "2021-09-04T11:38:26.735463Z",
     "iopub.status.idle": "2021-09-04T13:00:09.832534Z",
     "shell.execute_reply": "2021-09-04T13:00:09.831695Z",
     "shell.execute_reply.started": "2021-09-04T11:38:26.735754Z"
    }
   },
   "outputs": [],
   "source": [
    "#Training the Model\n",
    "history = model.fit(X, y, batch_size=128, epochs=100)"
   ]
  },
  {
   "cell_type": "code",
   "execution_count": null,
   "metadata": {
    "_kg_hide-input": true,
    "_kg_hide-output": true,
    "execution": {
     "iopub.execute_input": "2021-09-04T13:00:09.838913Z",
     "iopub.status.busy": "2021-09-04T13:00:09.836841Z",
     "iopub.status.idle": "2021-09-04T13:00:09.878220Z",
     "shell.execute_reply": "2021-09-04T13:00:09.877387Z",
     "shell.execute_reply.started": "2021-09-04T13:00:09.838870Z"
    }
   },
   "outputs": [],
   "source": [
    "from keras.models import load_model\n",
    "#To be used later; I am saving the model \n",
    "model.save(\"Lyrics_Generator.h5\")"
   ]
  },
  {
   "cell_type": "code",
   "execution_count": null,
   "metadata": {
    "execution": {
     "iopub.execute_input": "2021-09-04T13:00:09.884471Z",
     "iopub.status.busy": "2021-09-04T13:00:09.882374Z",
     "iopub.status.idle": "2021-09-04T13:00:10.188351Z",
     "shell.execute_reply": "2021-09-04T13:00:10.187474Z",
     "shell.execute_reply.started": "2021-09-04T13:00:09.884432Z"
    }
   },
   "outputs": [],
   "source": [
    "history_df = pd.DataFrame(history.history)\n",
    "#Plotting the learnings \n",
    "\n",
    "fig = plt.figure(figsize=(15,4), facecolor=\"#B291B6\")\n",
    "fig.suptitle(\"Learning Plot of Model for Loss\")\n",
    "pl=sns.lineplot(data=history_df[\"loss\"],color=\"#444160\")\n",
    "pl.set(ylabel =\"Training Loss\")\n",
    "pl.set(xlabel =\"Epochs\")"
   ]
  },
  {
   "cell_type": "markdown",
   "metadata": {},
   "source": [
    "**Generating the songs**"
   ]
  },
  {
   "cell_type": "code",
   "execution_count": null,
   "metadata": {
    "execution": {
     "iopub.execute_input": "2021-09-04T13:00:10.194622Z",
     "iopub.status.busy": "2021-09-04T13:00:10.192392Z",
     "iopub.status.idle": "2021-09-04T13:00:10.207726Z",
     "shell.execute_reply": "2021-09-04T13:00:10.206582Z",
     "shell.execute_reply.started": "2021-09-04T13:00:10.194580Z"
    }
   },
   "outputs": [],
   "source": [
    "# The function to generate text from model\n",
    "def Lyrics_Generator(starter,Ch_count): #,temperature=1.0):\n",
    "    generated= \"\"\n",
    "    starter = starter \n",
    "    seed=[mapping[char] for char in starter]\n",
    "    generated += starter \n",
    "    # Generating new text of given length\n",
    "    for i in range(Ch_count):\n",
    "        seed=[mapping[char] for char in starter]\n",
    "        x_pred = np.reshape(seed, (1, len(seed), 1))\n",
    "        x_pred = x_pred/ float(L_symb)\n",
    "        prediction = model.predict(x_pred, verbose=0)[0]  \n",
    "        # Getting the index of the next most probable index\n",
    "        prediction = np.asarray(prediction).astype('float64')\n",
    "        prediction = np.log(prediction) / 1.0 \n",
    "        exp_preds = np.exp(prediction)\n",
    "        prediction = exp_preds / np.sum(exp_preds)\n",
    "        probas = np.random.multinomial(1, prediction, 1)\n",
    "        index = np.argmax(prediction)\n",
    "        next_char = reverse_mapping[index]  \n",
    "        # Generating new text\n",
    "        generated += next_char\n",
    "        starter = starter[1:] + next_char\n",
    "       \n",
    "    return generated"
   ]
  },
  {
   "cell_type": "code",
   "execution_count": null,
   "metadata": {
    "execution": {
     "iopub.execute_input": "2021-09-04T13:04:20.268481Z",
     "iopub.status.busy": "2021-09-04T13:04:20.268166Z",
     "iopub.status.idle": "2021-09-04T13:04:34.268877Z",
     "shell.execute_reply": "2021-09-04T13:04:34.267893Z",
     "shell.execute_reply.started": "2021-09-04T13:04:20.268452Z"
    }
   },
   "outputs": [],
   "source": [
    "#Generating a song from the model\n",
    "song_1 = Lyrics_Generator(\"the shoe shrunk, and the school belt got ridiculously petit\", 400)\n",
    "#Let's have a look at the song\n",
    "My_song(song_1)"
   ]
  },
  {
   "cell_type": "code",
   "execution_count": null,
   "metadata": {
    "execution": {
     "iopub.execute_input": "2021-09-04T13:04:34.270886Z",
     "iopub.status.busy": "2021-09-04T13:04:34.270564Z",
     "iopub.status.idle": "2021-09-04T13:04:47.482424Z",
     "shell.execute_reply": "2021-09-04T13:04:47.477675Z",
     "shell.execute_reply.started": "2021-09-04T13:04:34.270852Z"
    }
   },
   "outputs": [],
   "source": [
    "#Generating a song from the model using a song out of the corpus\n",
    "song_2 = Lyrics_Generator(\"i'm a sunflower, a little funny\", 400)\n",
    "#Let's have a look at the song\n",
    "My_song(song_2)"
   ]
  }
 ],
 "metadata": {
  "kernelspec": {
   "display_name": "Python 3 (ipykernel)",
   "language": "python",
   "name": "python3"
  },
  "language_info": {
   "codemirror_mode": {
    "name": "ipython",
    "version": 3
   },
   "file_extension": ".py",
   "mimetype": "text/x-python",
   "name": "python",
   "nbconvert_exporter": "python",
   "pygments_lexer": "ipython3",
   "version": "3.9.13"
  }
 },
 "nbformat": 4,
 "nbformat_minor": 4
}
